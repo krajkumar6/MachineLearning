{
  "nbformat": 4,
  "nbformat_minor": 0,
  "metadata": {
    "colab": {
      "provenance": [],
      "authorship_tag": "ABX9TyNYmY9+QBTni0x/o7xnt/f9",
      "include_colab_link": true
    },
    "kernelspec": {
      "name": "python3",
      "display_name": "Python 3"
    },
    "language_info": {
      "name": "python"
    }
  },
  "cells": [
    {
      "cell_type": "markdown",
      "metadata": {
        "id": "view-in-github",
        "colab_type": "text"
      },
      "source": [
        "<a href=\"https://colab.research.google.com/github/krajkumar6/MachineLearning/blob/master/3_creating_DGL_graph.ipynb\" target=\"_parent\"><img src=\"https://colab.research.google.com/assets/colab-badge.svg\" alt=\"Open In Colab\"/></a>"
      ]
    },
    {
      "cell_type": "markdown",
      "source": [
        "# Creating a heterogenous DGL graph with the following node types and relationships from raw data that has been prepared in the previous notebooks\n",
        "\n",
        "*Nodes*\n",
        "\n",
        "1.   Users\n",
        "2.   News\n",
        "1.   Category\n",
        "2.   SubCategory\n",
        "\n",
        "*Edges/Relationships*\n",
        "\n",
        "1.   Users->read->News\n",
        "2.   News>belongs->Category\n",
        "\n",
        "1.   SubCategory>belongs>Category\n",
        "\n",
        "\n",
        "\n",
        "\n",
        "\n",
        "\n",
        "\n",
        "\n",
        "\n",
        "\n",
        "\n",
        "\n",
        "\n",
        "\n"
      ],
      "metadata": {
        "id": "X0HuApc2276s"
      }
    },
    {
      "cell_type": "code",
      "source": [
        "# Install dgl library\n",
        "!pip install dgl -f https://data.dgl.ai/wheels/repo.html"
      ],
      "metadata": {
        "colab": {
          "base_uri": "https://localhost:8080/"
        },
        "id": "u-aDgW_h9E2a",
        "outputId": "46ba6154-2fbc-4d6f-fac4-5e822ed5e955"
      },
      "execution_count": 1,
      "outputs": [
        {
          "output_type": "stream",
          "name": "stdout",
          "text": [
            "Looking in indexes: https://pypi.org/simple, https://us-python.pkg.dev/colab-wheels/public/simple/\n",
            "Looking in links: https://data.dgl.ai/wheels/repo.html\n",
            "Requirement already satisfied: dgl in /usr/local/lib/python3.8/dist-packages (0.9.1.post1)\n",
            "Requirement already satisfied: requests>=2.19.0 in /usr/local/lib/python3.8/dist-packages (from dgl) (2.25.1)\n",
            "Requirement already satisfied: networkx>=2.1 in /usr/local/lib/python3.8/dist-packages (from dgl) (2.8.8)\n",
            "Requirement already satisfied: psutil>=5.8.0 in /usr/local/lib/python3.8/dist-packages (from dgl) (5.9.4)\n",
            "Requirement already satisfied: scipy>=1.1.0 in /usr/local/lib/python3.8/dist-packages (from dgl) (1.7.3)\n",
            "Requirement already satisfied: numpy>=1.14.0 in /usr/local/lib/python3.8/dist-packages (from dgl) (1.21.6)\n",
            "Requirement already satisfied: tqdm in /usr/local/lib/python3.8/dist-packages (from dgl) (4.64.1)\n",
            "Requirement already satisfied: idna<3,>=2.5 in /usr/local/lib/python3.8/dist-packages (from requests>=2.19.0->dgl) (2.10)\n",
            "Requirement already satisfied: urllib3<1.27,>=1.21.1 in /usr/local/lib/python3.8/dist-packages (from requests>=2.19.0->dgl) (1.24.3)\n",
            "Requirement already satisfied: certifi>=2017.4.17 in /usr/local/lib/python3.8/dist-packages (from requests>=2.19.0->dgl) (2022.12.7)\n",
            "Requirement already satisfied: chardet<5,>=3.0.2 in /usr/local/lib/python3.8/dist-packages (from requests>=2.19.0->dgl) (4.0.0)\n"
          ]
        }
      ]
    },
    {
      "cell_type": "code",
      "source": [
        "!export DGLBACKEND='pytorch'"
      ],
      "metadata": {
        "id": "sCP6s8UGbDRJ"
      },
      "execution_count": 2,
      "outputs": []
    },
    {
      "cell_type": "code",
      "execution_count": 3,
      "metadata": {
        "id": "o0vnqD4E15Re",
        "colab": {
          "base_uri": "https://localhost:8080/"
        },
        "outputId": "8cd0607e-dd8a-46b7-9de3-7e42fc7fb963"
      },
      "outputs": [
        {
          "output_type": "stream",
          "name": "stderr",
          "text": [
            "DGL backend not selected or invalid.  Assuming PyTorch for now.\n"
          ]
        },
        {
          "output_type": "stream",
          "name": "stdout",
          "text": [
            "Setting the default backend to \"pytorch\". You can change it in the ~/.dgl/config.json file or export the DGLBACKEND environment variable.  Valid options are: pytorch, mxnet, tensorflow (all lowercase)\n"
          ]
        }
      ],
      "source": [
        "# Import all libraries\n",
        "import pandas as pd\n",
        "import numpy as np\n",
        "import torch as th\n",
        "import dgl"
      ]
    },
    {
      "cell_type": "code",
      "source": [
        "# mounting gdrive\n",
        "from google.colab import drive\n",
        "drive.mount('/content/drive')"
      ],
      "metadata": {
        "colab": {
          "base_uri": "https://localhost:8080/"
        },
        "id": "vN219Lk__sEM",
        "outputId": "c3415f15-fb4d-4b07-eabd-c87ee1a91c56"
      },
      "execution_count": 4,
      "outputs": [
        {
          "output_type": "stream",
          "name": "stdout",
          "text": [
            "Mounted at /content/drive\n"
          ]
        }
      ]
    },
    {
      "cell_type": "code",
      "source": [
        "# importing nodes data from csv files\n",
        "path = '/content/drive/MyDrive/Raj/Work related/Colab Notebooks/PaaS demo/MIND-small/train/'\n",
        "user = pd.read_csv(path+'users_emb.csv')\n",
        "news_title = pd.read_csv(path+'Title_emb.csv')\n",
        "news_abs = pd.read_csv(path+'Abs_emb.csv')\n",
        "cat = pd.read_csv(path+'cat_enc.csv')\n",
        "sub_cat = pd.read_csv(path+'sub_cat_enc.csv')\n",
        "\n",
        "user = user.iloc[:,1:]\n",
        "print(user.shape)\n",
        "cat=cat.iloc[:,1:]\n",
        "print(cat.shape)\n",
        "sub_cat= sub_cat.iloc[:,1:]\n",
        "print(sub_cat.shape)\n",
        "news_title = news_title.iloc[:,1:]\n",
        "print(news_title.shape)\n",
        "news_abs = news_abs.iloc[:,1:]\n",
        "print(news_abs.shape)"
      ],
      "metadata": {
        "id": "bUfWIMY8-CEc",
        "colab": {
          "base_uri": "https://localhost:8080/"
        },
        "outputId": "89bb448d-6d91-4986-e8b2-5748b605eb42"
      },
      "execution_count": 5,
      "outputs": [
        {
          "output_type": "stream",
          "name": "stdout",
          "text": [
            "(50000, 384)\n",
            "(17, 17)\n",
            "(264, 264)\n",
            "(51282, 384)\n",
            "(51282, 384)\n"
          ]
        }
      ]
    },
    {
      "cell_type": "code",
      "source": [
        "news_title.head()"
      ],
      "metadata": {
        "colab": {
          "base_uri": "https://localhost:8080/",
          "height": 300
        },
        "id": "uuwSo_T274to",
        "outputId": "277d9424-4436-4cc4-d010-24c92c72b180"
      },
      "execution_count": 6,
      "outputs": [
        {
          "output_type": "execute_result",
          "data": {
            "text/plain": [
              "          0         1         2         3         4         5         6  \\\n",
              "0 -0.009286  0.042442  0.058988  0.012106  0.033419  0.019646  0.027369   \n",
              "1  0.018617  0.038452  0.026627  0.083813 -0.007007 -0.030662  0.020416   \n",
              "2 -0.026763  0.067353  0.047776  0.065173  0.001775 -0.004801 -0.026565   \n",
              "3  0.067175  0.093692  0.010179  0.030391 -0.011820  0.076098  0.070887   \n",
              "4  0.001295  0.104388 -0.016191  0.016463  0.023895 -0.089162  0.073511   \n",
              "\n",
              "          7         8         9  ...       374       375       376       377  \\\n",
              "0 -0.061527 -0.036167 -0.039047  ... -0.006674 -0.003653  0.048061 -0.001848   \n",
              "1  0.000688 -0.092173  0.017821  ...  0.003076  0.005209 -0.005404 -0.031541   \n",
              "2  0.031510 -0.043916  0.001157  ...  0.088919 -0.001920  0.030752  0.028289   \n",
              "3  0.035816  0.036560  0.003015  ...  0.043614 -0.012557 -0.003307 -0.044030   \n",
              "4  0.030496 -0.076674 -0.051121  ... -0.051557 -0.053719  0.118986  0.020450   \n",
              "\n",
              "        378       379       380       381       382       383  \n",
              "0 -0.037265 -0.010018  0.051743 -0.131551  0.050825 -0.030139  \n",
              "1 -0.033012  0.087852  0.073781 -0.039684 -0.008007  0.000351  \n",
              "2 -0.030664  0.027943 -0.060686 -0.068997 -0.010749 -0.007543  \n",
              "3 -0.058982 -0.079833  0.060218  0.004372 -0.063992 -0.013305  \n",
              "4 -0.029104  0.016139  0.042121 -0.010622  0.048454  0.075503  \n",
              "\n",
              "[5 rows x 384 columns]"
            ],
            "text/html": [
              "\n",
              "  <div id=\"df-af1fd35f-69e0-4c02-b961-9950b5c58a8c\">\n",
              "    <div class=\"colab-df-container\">\n",
              "      <div>\n",
              "<style scoped>\n",
              "    .dataframe tbody tr th:only-of-type {\n",
              "        vertical-align: middle;\n",
              "    }\n",
              "\n",
              "    .dataframe tbody tr th {\n",
              "        vertical-align: top;\n",
              "    }\n",
              "\n",
              "    .dataframe thead th {\n",
              "        text-align: right;\n",
              "    }\n",
              "</style>\n",
              "<table border=\"1\" class=\"dataframe\">\n",
              "  <thead>\n",
              "    <tr style=\"text-align: right;\">\n",
              "      <th></th>\n",
              "      <th>0</th>\n",
              "      <th>1</th>\n",
              "      <th>2</th>\n",
              "      <th>3</th>\n",
              "      <th>4</th>\n",
              "      <th>5</th>\n",
              "      <th>6</th>\n",
              "      <th>7</th>\n",
              "      <th>8</th>\n",
              "      <th>9</th>\n",
              "      <th>...</th>\n",
              "      <th>374</th>\n",
              "      <th>375</th>\n",
              "      <th>376</th>\n",
              "      <th>377</th>\n",
              "      <th>378</th>\n",
              "      <th>379</th>\n",
              "      <th>380</th>\n",
              "      <th>381</th>\n",
              "      <th>382</th>\n",
              "      <th>383</th>\n",
              "    </tr>\n",
              "  </thead>\n",
              "  <tbody>\n",
              "    <tr>\n",
              "      <th>0</th>\n",
              "      <td>-0.009286</td>\n",
              "      <td>0.042442</td>\n",
              "      <td>0.058988</td>\n",
              "      <td>0.012106</td>\n",
              "      <td>0.033419</td>\n",
              "      <td>0.019646</td>\n",
              "      <td>0.027369</td>\n",
              "      <td>-0.061527</td>\n",
              "      <td>-0.036167</td>\n",
              "      <td>-0.039047</td>\n",
              "      <td>...</td>\n",
              "      <td>-0.006674</td>\n",
              "      <td>-0.003653</td>\n",
              "      <td>0.048061</td>\n",
              "      <td>-0.001848</td>\n",
              "      <td>-0.037265</td>\n",
              "      <td>-0.010018</td>\n",
              "      <td>0.051743</td>\n",
              "      <td>-0.131551</td>\n",
              "      <td>0.050825</td>\n",
              "      <td>-0.030139</td>\n",
              "    </tr>\n",
              "    <tr>\n",
              "      <th>1</th>\n",
              "      <td>0.018617</td>\n",
              "      <td>0.038452</td>\n",
              "      <td>0.026627</td>\n",
              "      <td>0.083813</td>\n",
              "      <td>-0.007007</td>\n",
              "      <td>-0.030662</td>\n",
              "      <td>0.020416</td>\n",
              "      <td>0.000688</td>\n",
              "      <td>-0.092173</td>\n",
              "      <td>0.017821</td>\n",
              "      <td>...</td>\n",
              "      <td>0.003076</td>\n",
              "      <td>0.005209</td>\n",
              "      <td>-0.005404</td>\n",
              "      <td>-0.031541</td>\n",
              "      <td>-0.033012</td>\n",
              "      <td>0.087852</td>\n",
              "      <td>0.073781</td>\n",
              "      <td>-0.039684</td>\n",
              "      <td>-0.008007</td>\n",
              "      <td>0.000351</td>\n",
              "    </tr>\n",
              "    <tr>\n",
              "      <th>2</th>\n",
              "      <td>-0.026763</td>\n",
              "      <td>0.067353</td>\n",
              "      <td>0.047776</td>\n",
              "      <td>0.065173</td>\n",
              "      <td>0.001775</td>\n",
              "      <td>-0.004801</td>\n",
              "      <td>-0.026565</td>\n",
              "      <td>0.031510</td>\n",
              "      <td>-0.043916</td>\n",
              "      <td>0.001157</td>\n",
              "      <td>...</td>\n",
              "      <td>0.088919</td>\n",
              "      <td>-0.001920</td>\n",
              "      <td>0.030752</td>\n",
              "      <td>0.028289</td>\n",
              "      <td>-0.030664</td>\n",
              "      <td>0.027943</td>\n",
              "      <td>-0.060686</td>\n",
              "      <td>-0.068997</td>\n",
              "      <td>-0.010749</td>\n",
              "      <td>-0.007543</td>\n",
              "    </tr>\n",
              "    <tr>\n",
              "      <th>3</th>\n",
              "      <td>0.067175</td>\n",
              "      <td>0.093692</td>\n",
              "      <td>0.010179</td>\n",
              "      <td>0.030391</td>\n",
              "      <td>-0.011820</td>\n",
              "      <td>0.076098</td>\n",
              "      <td>0.070887</td>\n",
              "      <td>0.035816</td>\n",
              "      <td>0.036560</td>\n",
              "      <td>0.003015</td>\n",
              "      <td>...</td>\n",
              "      <td>0.043614</td>\n",
              "      <td>-0.012557</td>\n",
              "      <td>-0.003307</td>\n",
              "      <td>-0.044030</td>\n",
              "      <td>-0.058982</td>\n",
              "      <td>-0.079833</td>\n",
              "      <td>0.060218</td>\n",
              "      <td>0.004372</td>\n",
              "      <td>-0.063992</td>\n",
              "      <td>-0.013305</td>\n",
              "    </tr>\n",
              "    <tr>\n",
              "      <th>4</th>\n",
              "      <td>0.001295</td>\n",
              "      <td>0.104388</td>\n",
              "      <td>-0.016191</td>\n",
              "      <td>0.016463</td>\n",
              "      <td>0.023895</td>\n",
              "      <td>-0.089162</td>\n",
              "      <td>0.073511</td>\n",
              "      <td>0.030496</td>\n",
              "      <td>-0.076674</td>\n",
              "      <td>-0.051121</td>\n",
              "      <td>...</td>\n",
              "      <td>-0.051557</td>\n",
              "      <td>-0.053719</td>\n",
              "      <td>0.118986</td>\n",
              "      <td>0.020450</td>\n",
              "      <td>-0.029104</td>\n",
              "      <td>0.016139</td>\n",
              "      <td>0.042121</td>\n",
              "      <td>-0.010622</td>\n",
              "      <td>0.048454</td>\n",
              "      <td>0.075503</td>\n",
              "    </tr>\n",
              "  </tbody>\n",
              "</table>\n",
              "<p>5 rows × 384 columns</p>\n",
              "</div>\n",
              "      <button class=\"colab-df-convert\" onclick=\"convertToInteractive('df-af1fd35f-69e0-4c02-b961-9950b5c58a8c')\"\n",
              "              title=\"Convert this dataframe to an interactive table.\"\n",
              "              style=\"display:none;\">\n",
              "        \n",
              "  <svg xmlns=\"http://www.w3.org/2000/svg\" height=\"24px\"viewBox=\"0 0 24 24\"\n",
              "       width=\"24px\">\n",
              "    <path d=\"M0 0h24v24H0V0z\" fill=\"none\"/>\n",
              "    <path d=\"M18.56 5.44l.94 2.06.94-2.06 2.06-.94-2.06-.94-.94-2.06-.94 2.06-2.06.94zm-11 1L8.5 8.5l.94-2.06 2.06-.94-2.06-.94L8.5 2.5l-.94 2.06-2.06.94zm10 10l.94 2.06.94-2.06 2.06-.94-2.06-.94-.94-2.06-.94 2.06-2.06.94z\"/><path d=\"M17.41 7.96l-1.37-1.37c-.4-.4-.92-.59-1.43-.59-.52 0-1.04.2-1.43.59L10.3 9.45l-7.72 7.72c-.78.78-.78 2.05 0 2.83L4 21.41c.39.39.9.59 1.41.59.51 0 1.02-.2 1.41-.59l7.78-7.78 2.81-2.81c.8-.78.8-2.07 0-2.86zM5.41 20L4 18.59l7.72-7.72 1.47 1.35L5.41 20z\"/>\n",
              "  </svg>\n",
              "      </button>\n",
              "      \n",
              "  <style>\n",
              "    .colab-df-container {\n",
              "      display:flex;\n",
              "      flex-wrap:wrap;\n",
              "      gap: 12px;\n",
              "    }\n",
              "\n",
              "    .colab-df-convert {\n",
              "      background-color: #E8F0FE;\n",
              "      border: none;\n",
              "      border-radius: 50%;\n",
              "      cursor: pointer;\n",
              "      display: none;\n",
              "      fill: #1967D2;\n",
              "      height: 32px;\n",
              "      padding: 0 0 0 0;\n",
              "      width: 32px;\n",
              "    }\n",
              "\n",
              "    .colab-df-convert:hover {\n",
              "      background-color: #E2EBFA;\n",
              "      box-shadow: 0px 1px 2px rgba(60, 64, 67, 0.3), 0px 1px 3px 1px rgba(60, 64, 67, 0.15);\n",
              "      fill: #174EA6;\n",
              "    }\n",
              "\n",
              "    [theme=dark] .colab-df-convert {\n",
              "      background-color: #3B4455;\n",
              "      fill: #D2E3FC;\n",
              "    }\n",
              "\n",
              "    [theme=dark] .colab-df-convert:hover {\n",
              "      background-color: #434B5C;\n",
              "      box-shadow: 0px 1px 3px 1px rgba(0, 0, 0, 0.15);\n",
              "      filter: drop-shadow(0px 1px 2px rgba(0, 0, 0, 0.3));\n",
              "      fill: #FFFFFF;\n",
              "    }\n",
              "  </style>\n",
              "\n",
              "      <script>\n",
              "        const buttonEl =\n",
              "          document.querySelector('#df-af1fd35f-69e0-4c02-b961-9950b5c58a8c button.colab-df-convert');\n",
              "        buttonEl.style.display =\n",
              "          google.colab.kernel.accessAllowed ? 'block' : 'none';\n",
              "\n",
              "        async function convertToInteractive(key) {\n",
              "          const element = document.querySelector('#df-af1fd35f-69e0-4c02-b961-9950b5c58a8c');\n",
              "          const dataTable =\n",
              "            await google.colab.kernel.invokeFunction('convertToInteractive',\n",
              "                                                     [key], {});\n",
              "          if (!dataTable) return;\n",
              "\n",
              "          const docLinkHtml = 'Like what you see? Visit the ' +\n",
              "            '<a target=\"_blank\" href=https://colab.research.google.com/notebooks/data_table.ipynb>data table notebook</a>'\n",
              "            + ' to learn more about interactive tables.';\n",
              "          element.innerHTML = '';\n",
              "          dataTable['output_type'] = 'display_data';\n",
              "          await google.colab.output.renderOutput(dataTable, element);\n",
              "          const docLink = document.createElement('div');\n",
              "          docLink.innerHTML = docLinkHtml;\n",
              "          element.appendChild(docLink);\n",
              "        }\n",
              "      </script>\n",
              "    </div>\n",
              "  </div>\n",
              "  "
            ]
          },
          "metadata": {},
          "execution_count": 6
        }
      ]
    },
    {
      "cell_type": "code",
      "source": [
        "# importing relationship data from csv diles\n",
        "user_art_rel = pd.read_csv(path+'user_art_rel1.csv')\n",
        "print(user_art_rel.shape)\n",
        "# importing negative graph consisting of user-article sets where user saw an article but did not click\n",
        "user_art_neg_rel = pd.read_csv(path+'user_art_neg_samp_rel1.csv')\n",
        "print(user_art_neg_rel.shape)\n",
        "# art_cat_rel = pd.read_csv(path+'art_cat_rel.csv')\n",
        "# print(art_cat_rel.shape)\n",
        "# cat_sub_cat_rel = pd.read_csv(path+'cat_subcat_rel.csv')\n",
        "# print(cat_sub_cat_rel.shape)"
      ],
      "metadata": {
        "colab": {
          "base_uri": "https://localhost:8080/"
        },
        "id": "_Dy0wnV2AYo-",
        "outputId": "3aa1c8cc-efd1-40f3-d93d-56682bffe58b"
      },
      "execution_count": 7,
      "outputs": [
        {
          "output_type": "stream",
          "name": "stdout",
          "text": [
            "(1318793, 2)\n",
            "(1157708, 2)\n"
          ]
        }
      ]
    },
    {
      "cell_type": "markdown",
      "source": [
        "### Creating DGL dataset and (DGL graph)"
      ],
      "metadata": {
        "id": "ZzRTXy8MvgX-"
      }
    },
    {
      "cell_type": "code",
      "source": [
        "from dgl.data import DGLDataset\n",
        "from dgl.data.utils import save_graphs,load_graphs\n",
        "\n",
        "class MIND_mini_DGLdataset(DGLDataset):\n",
        "\n",
        "  def __init__(self,\n",
        "               url = None,\n",
        "               raw_dir = None,\n",
        "               save_dir = None,\n",
        "               force_reload = False,\n",
        "               verbose = False):\n",
        "    super(MIND_mini_DGLdataset,self).__init__(name = 'MIND_mini',\n",
        "                                           url = url,\n",
        "                                          raw_dir = raw_dir,\n",
        "                                          save_dir = save_dir,\n",
        "                                          force_reload = force_reload,\n",
        "                                          verbose = verbose\n",
        "                                          )\n",
        "  \n",
        "  def process(self):\n",
        "    # process raw data to graphs, labels, splitting masks\n",
        "    \n",
        "    # converting nodes data to torch tensors\n",
        "    print('DGL Dataset process begins')\n",
        "\n",
        "    user_th = th.from_numpy(user.to_numpy().astype(np.float32)) \n",
        "    news_title_th = th.from_numpy(news_title.to_numpy().astype(np.float32))\n",
        "    news_abs_th = th.from_numpy(news_abs.to_numpy().astype(np.float32))\n",
        "    # cat_th = th.from_numpy(cat.to_numpy())\n",
        "    # sub_cat_th = th.from_numpy(sub_cat.to_numpy())\n",
        "    \n",
        "    # print(news_title_th.shape)\n",
        "    # print(news_abs_th.shape)\n",
        "\n",
        "    # converting edges data to torch tensors\n",
        "    user_art_rel_u = th.from_numpy(user_art_rel['UserID_int'].to_numpy())\n",
        "    user_art_rel_v = th.from_numpy(user_art_rel['NewsID_int'].to_numpy())\n",
        "\n",
        "    user_art_neg_rel_u = th.from_numpy(user_art_neg_rel['UserID_int'].to_numpy())\n",
        "    user_art_neg_rel_v = th.from_numpy(user_art_neg_rel['NewsID_int'].to_numpy())\n",
        "    # art_cat_rel_u = th.from_numpy(art_cat_rel['NewsID_int'].to_numpy())\n",
        "    # art_cat_rel_v = th.from_numpy(art_cat_rel['CatID_int'].to_numpy())\n",
        "    # cat_sub_cat_rel_u = th.from_numpy(cat_sub_cat_rel['CatID_int'].to_numpy())\n",
        "    # cat_sub_cat_rel_v = th.from_numpy(cat_sub_cat_rel['SubcatID_int'].to_numpy())\n",
        "\n",
        "    # creating dgl graph for relationship - user-clicks-article\n",
        "    graph_data = {\n",
        "        ('user','clicks','article'):(user_art_rel_u,user_art_rel_v),\n",
        "        ('article','clicked_by','user'):(user_art_rel_v,user_art_rel_u)\n",
        "\n",
        "        # ('user','no-click','article'):(user_art_neg_rel_u,user_art_neg_rel_v),\n",
        "        # ('article','not_clicked_by','user'):(user_art_neg_rel_v,user_art_neg_rel_u)\n",
        "        \n",
        "        # ('article','belongs','category'):(art_cat_rel_u,art_cat_rel_v),\n",
        "        # ('category','contains','article'):(art_cat_rel_v,art_cat_rel_u),\n",
        "\n",
        "        # ('category','parent','subcategory'):(cat_sub_cat_rel_u,cat_sub_cat_rel_v),\n",
        "        # ('subcategory','child','category'):(cat_sub_cat_rel_v,cat_sub_cat_rel_u)\n",
        "    }\n",
        "    graph_data_dict ={'user':50000,\n",
        "                      'article':51282}\n",
        "\n",
        "    self.hg = dgl.heterograph(graph_data,graph_data_dict)\n",
        "\n",
        "    # setting features for nodes and edges\n",
        "    self.hg.nodes['user'].data['feat'] = user_th\n",
        "    # self.hg.nodes['category'].data['feat'] = cat_th\n",
        "    # self.hg.nodes['subcategory'].data['feat'] = sub_cat_th\n",
        "    self.hg.nodes['article'].data['title'] = news_title_th\n",
        "    self.hg.nodes['article'].data['abs'] = news_abs_th\n",
        "    print(self.hg.num_nodes('article'))\n",
        "    \n",
        "\n",
        "  def len(self):\n",
        "    # number of graphs\n",
        "    return 1\n",
        "\n",
        "  def __getitem__(self,idx):\n",
        "    # get one example graph by index - idx\n",
        "    assert idx == 0,\"There is just one graph in this dataset\"\n",
        "    return (self.hg)\n",
        "  \n",
        "  def save(self):\n",
        "    dgl.save_graphs(path + 'MIND_small.bin',[self.hg])\n",
        "    print(f'DGL dataset {self.name} is stored in binary format in {path}')\n",
        "\n",
        "  # def load(self):\n",
        "  #   self.graphs,label_dict = dgl.load_graphs(self.path + 'MIND_small.bin')\n",
        "  #   print(f'DGL dataset {self.name} retrieved to list of graphs - self.graphs[]')"
      ],
      "metadata": {
        "id": "07UuQ_4O5Bh4"
      },
      "execution_count": 8,
      "outputs": []
    },
    {
      "cell_type": "code",
      "source": [
        "dataset = MIND_mini_DGLdataset()"
      ],
      "metadata": {
        "colab": {
          "base_uri": "https://localhost:8080/"
        },
        "id": "R43QsCSZyE5r",
        "outputId": "6f7c2185-f0da-4199-af83-ddaa2dd03e17"
      },
      "execution_count": 9,
      "outputs": [
        {
          "output_type": "stream",
          "name": "stdout",
          "text": [
            "DGL Dataset process begins\n",
            "51282\n",
            "DGL dataset MIND_mini is stored in binary format in /content/drive/MyDrive/Raj/Work related/Colab Notebooks/PaaS demo/MIND-small/train/\n"
          ]
        }
      ]
    },
    {
      "cell_type": "code",
      "source": [
        "hg = dataset[0]"
      ],
      "metadata": {
        "id": "oxNHYdlpbAc-"
      },
      "execution_count": 10,
      "outputs": []
    },
    {
      "cell_type": "code",
      "source": [
        "print(f'hg.ntypes {hg.ntypes}')\n",
        "print(f'hg.etypes {hg.etypes}')\n",
        "print(f'hg.canonical_etypes {hg.canonical_etypes}')"
      ],
      "metadata": {
        "colab": {
          "base_uri": "https://localhost:8080/"
        },
        "id": "-pJWp_aKIk1p",
        "outputId": "ea0dea97-4fb4-4d70-d160-81715ddf5946"
      },
      "execution_count": null,
      "outputs": [
        {
          "output_type": "stream",
          "name": "stdout",
          "text": [
            "hg.ntypes ['article', 'user']\n",
            "hg.etypes ['clicked_by', 'not_clicked_by', 'clicks', 'no-click']\n",
            "hg.canonical_etypes [('article', 'clicked_by', 'user'), ('article', 'not_clicked_by', 'user'), ('user', 'clicks', 'article'), ('user', 'no-click', 'article')]\n"
          ]
        }
      ]
    },
    {
      "cell_type": "code",
      "source": [
        "hg"
      ],
      "metadata": {
        "colab": {
          "base_uri": "https://localhost:8080/"
        },
        "id": "cRbMfxlijqjn",
        "outputId": "a9e169e5-626e-44a0-8351-edb7e9e5aca2"
      },
      "execution_count": 11,
      "outputs": [
        {
          "output_type": "execute_result",
          "data": {
            "text/plain": [
              "Graph(num_nodes={'article': 51282, 'user': 50000},\n",
              "      num_edges={('article', 'clicked_by', 'user'): 1318793, ('user', 'clicks', 'article'): 1318793},\n",
              "      metagraph=[('article', 'user', 'clicked_by'), ('user', 'article', 'clicks')])"
            ]
          },
          "metadata": {},
          "execution_count": 11
        }
      ]
    },
    {
      "cell_type": "code",
      "source": [],
      "metadata": {
        "id": "tWyTYo6pRtMD"
      },
      "execution_count": null,
      "outputs": []
    }
  ]
}